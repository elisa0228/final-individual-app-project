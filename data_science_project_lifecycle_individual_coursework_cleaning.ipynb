{
  "nbformat": 4,
  "nbformat_minor": 0,
  "metadata": {
    "colab": {
      "provenance": []
    },
    "kernelspec": {
      "name": "python3",
      "display_name": "Python 3"
    },
    "language_info": {
      "name": "python"
    }
  },
  "cells": [
    {
      "cell_type": "code",
      "execution_count": 86,
      "metadata": {
        "id": "KLgUQvJ28LYy"
      },
      "outputs": [],
      "source": [
        "# import a suitable python library to load and access the coursework dataset\n",
        "import pandas as pd"
      ]
    },
    {
      "cell_type": "code",
      "source": [
        "#a suitable function to load the coursework dataset file\n",
        "data = pd.read_csv('/content/Traffic_Crashes_-_Vision_Zero_Chicago_Traffic_Fatalities.csv')"
      ],
      "metadata": {
        "id": "FnPR53ra8UFX"
      },
      "execution_count": 87,
      "outputs": []
    },
    {
      "cell_type": "code",
      "source": [
        "#a sample of crashes in the coursework dataset, a method to access (display) their recorded data values per variable\n",
        "data.head(10)"
      ],
      "metadata": {
        "colab": {
          "base_uri": "https://localhost:8080/",
          "height": 529
        },
        "id": "8vi7PGeE8moz",
        "outputId": "ebde3d7e-ba4e-4979-f598-f92946d40b91"
      },
      "execution_count": 88,
      "outputs": [
        {
          "output_type": "execute_result",
          "data": {
            "text/plain": [
              "  Person_ID              Crash_Date           Crash_Location      Victim  \\\n",
              "0  O1538374  03/19/2023 11:30:00 AM     2400 S WENTWORTH AVE  PEDESTRIAN   \n",
              "1   O699223  07/28/2019 02:13:00 AM        3529 N HALSTED ST      DRIVER   \n",
              "2  O1867282  07/20/2024 04:00:00 AM           4000 W 26TH ST      DRIVER   \n",
              "3  O1506700  01/27/2023 05:46:00 PM   5049 W WASHINGTON BLVD  PEDESTRIAN   \n",
              "4  O1149843  07/28/2021 07:14:00 PM      7899 S STONY ISLAND      DRIVER   \n",
              "5   O853602  03/02/2020 02:07:00 AM         700 N LASALLE DR      DRIVER   \n",
              "6  O1748281  01/26/2024 12:05:00 PM            128 W 87TH ST      DRIVER   \n",
              "7   O775752  11/06/2019 06:58:00 AM     3800 N MILWAUKEE AVE     CYCLIST   \n",
              "8  O1290371  02/28/2022 11:18:00 PM    11100 S COTTAGE GROVE      DRIVER   \n",
              "9  O1131709  07/03/2021 01:30:00 AM  4200 S LAKE SHORE DRIVE      DRIVER   \n",
              "\n",
              "                                 Crash_Circumstances  Longitude   Latitude  \\\n",
              "0                                                NaN -87.632078  41.849115   \n",
              "1                                                NaN -87.649308  41.946327   \n",
              "2  UNIT 1 DISREGARDED TRAFFIC SIGNAL AND STRUCK U... -87.724614  41.844365   \n",
              "3                                                NaN -87.752164  41.881618   \n",
              "4                                                NaN -87.585465  41.751518   \n",
              "5                                                NaN -87.632820  41.894850   \n",
              "6  UNIT 1 DRIVER UNDERGOING MEDICAL EMERGENCY AND... -87.627877  41.736156   \n",
              "7                                                NaN -87.741950  41.949990   \n",
              "8                                                NaN -87.610016  41.692742   \n",
              "9                                                NaN -87.596621  41.818497   \n",
              "\n",
              "                           Location  \n",
              "0  POINT (-87.63207812 41.84911545)  \n",
              "1  POINT (-87.64930836 41.94632714)  \n",
              "2  POINT (-87.72461414 41.84436482)  \n",
              "3  POINT (-87.75216366 41.88161789)  \n",
              "4  POINT (-87.58546514 41.75151786)  \n",
              "5        POINT (-87.63282 41.89485)  \n",
              "6  POINT (-87.62787708 41.73615595)  \n",
              "7        POINT (-87.74195 41.94999)  \n",
              "8  POINT (-87.61001554 41.69274215)  \n",
              "9  POINT (-87.59662067 41.81849736)  "
            ],
            "text/html": [
              "\n",
              "  <div id=\"df-7fff8690-4609-43be-970c-732bc482605c\" class=\"colab-df-container\">\n",
              "    <div>\n",
              "<style scoped>\n",
              "    .dataframe tbody tr th:only-of-type {\n",
              "        vertical-align: middle;\n",
              "    }\n",
              "\n",
              "    .dataframe tbody tr th {\n",
              "        vertical-align: top;\n",
              "    }\n",
              "\n",
              "    .dataframe thead th {\n",
              "        text-align: right;\n",
              "    }\n",
              "</style>\n",
              "<table border=\"1\" class=\"dataframe\">\n",
              "  <thead>\n",
              "    <tr style=\"text-align: right;\">\n",
              "      <th></th>\n",
              "      <th>Person_ID</th>\n",
              "      <th>Crash_Date</th>\n",
              "      <th>Crash_Location</th>\n",
              "      <th>Victim</th>\n",
              "      <th>Crash_Circumstances</th>\n",
              "      <th>Longitude</th>\n",
              "      <th>Latitude</th>\n",
              "      <th>Location</th>\n",
              "    </tr>\n",
              "  </thead>\n",
              "  <tbody>\n",
              "    <tr>\n",
              "      <th>0</th>\n",
              "      <td>O1538374</td>\n",
              "      <td>03/19/2023 11:30:00 AM</td>\n",
              "      <td>2400 S WENTWORTH AVE</td>\n",
              "      <td>PEDESTRIAN</td>\n",
              "      <td>NaN</td>\n",
              "      <td>-87.632078</td>\n",
              "      <td>41.849115</td>\n",
              "      <td>POINT (-87.63207812 41.84911545)</td>\n",
              "    </tr>\n",
              "    <tr>\n",
              "      <th>1</th>\n",
              "      <td>O699223</td>\n",
              "      <td>07/28/2019 02:13:00 AM</td>\n",
              "      <td>3529 N HALSTED ST</td>\n",
              "      <td>DRIVER</td>\n",
              "      <td>NaN</td>\n",
              "      <td>-87.649308</td>\n",
              "      <td>41.946327</td>\n",
              "      <td>POINT (-87.64930836 41.94632714)</td>\n",
              "    </tr>\n",
              "    <tr>\n",
              "      <th>2</th>\n",
              "      <td>O1867282</td>\n",
              "      <td>07/20/2024 04:00:00 AM</td>\n",
              "      <td>4000 W 26TH ST</td>\n",
              "      <td>DRIVER</td>\n",
              "      <td>UNIT 1 DISREGARDED TRAFFIC SIGNAL AND STRUCK U...</td>\n",
              "      <td>-87.724614</td>\n",
              "      <td>41.844365</td>\n",
              "      <td>POINT (-87.72461414 41.84436482)</td>\n",
              "    </tr>\n",
              "    <tr>\n",
              "      <th>3</th>\n",
              "      <td>O1506700</td>\n",
              "      <td>01/27/2023 05:46:00 PM</td>\n",
              "      <td>5049 W WASHINGTON BLVD</td>\n",
              "      <td>PEDESTRIAN</td>\n",
              "      <td>NaN</td>\n",
              "      <td>-87.752164</td>\n",
              "      <td>41.881618</td>\n",
              "      <td>POINT (-87.75216366 41.88161789)</td>\n",
              "    </tr>\n",
              "    <tr>\n",
              "      <th>4</th>\n",
              "      <td>O1149843</td>\n",
              "      <td>07/28/2021 07:14:00 PM</td>\n",
              "      <td>7899 S STONY ISLAND</td>\n",
              "      <td>DRIVER</td>\n",
              "      <td>NaN</td>\n",
              "      <td>-87.585465</td>\n",
              "      <td>41.751518</td>\n",
              "      <td>POINT (-87.58546514 41.75151786)</td>\n",
              "    </tr>\n",
              "    <tr>\n",
              "      <th>5</th>\n",
              "      <td>O853602</td>\n",
              "      <td>03/02/2020 02:07:00 AM</td>\n",
              "      <td>700 N LASALLE DR</td>\n",
              "      <td>DRIVER</td>\n",
              "      <td>NaN</td>\n",
              "      <td>-87.632820</td>\n",
              "      <td>41.894850</td>\n",
              "      <td>POINT (-87.63282 41.89485)</td>\n",
              "    </tr>\n",
              "    <tr>\n",
              "      <th>6</th>\n",
              "      <td>O1748281</td>\n",
              "      <td>01/26/2024 12:05:00 PM</td>\n",
              "      <td>128 W 87TH ST</td>\n",
              "      <td>DRIVER</td>\n",
              "      <td>UNIT 1 DRIVER UNDERGOING MEDICAL EMERGENCY AND...</td>\n",
              "      <td>-87.627877</td>\n",
              "      <td>41.736156</td>\n",
              "      <td>POINT (-87.62787708 41.73615595)</td>\n",
              "    </tr>\n",
              "    <tr>\n",
              "      <th>7</th>\n",
              "      <td>O775752</td>\n",
              "      <td>11/06/2019 06:58:00 AM</td>\n",
              "      <td>3800 N MILWAUKEE AVE</td>\n",
              "      <td>CYCLIST</td>\n",
              "      <td>NaN</td>\n",
              "      <td>-87.741950</td>\n",
              "      <td>41.949990</td>\n",
              "      <td>POINT (-87.74195 41.94999)</td>\n",
              "    </tr>\n",
              "    <tr>\n",
              "      <th>8</th>\n",
              "      <td>O1290371</td>\n",
              "      <td>02/28/2022 11:18:00 PM</td>\n",
              "      <td>11100 S COTTAGE GROVE</td>\n",
              "      <td>DRIVER</td>\n",
              "      <td>NaN</td>\n",
              "      <td>-87.610016</td>\n",
              "      <td>41.692742</td>\n",
              "      <td>POINT (-87.61001554 41.69274215)</td>\n",
              "    </tr>\n",
              "    <tr>\n",
              "      <th>9</th>\n",
              "      <td>O1131709</td>\n",
              "      <td>07/03/2021 01:30:00 AM</td>\n",
              "      <td>4200 S LAKE SHORE DRIVE</td>\n",
              "      <td>DRIVER</td>\n",
              "      <td>NaN</td>\n",
              "      <td>-87.596621</td>\n",
              "      <td>41.818497</td>\n",
              "      <td>POINT (-87.59662067 41.81849736)</td>\n",
              "    </tr>\n",
              "  </tbody>\n",
              "</table>\n",
              "</div>\n",
              "    <div class=\"colab-df-buttons\">\n",
              "\n",
              "  <div class=\"colab-df-container\">\n",
              "    <button class=\"colab-df-convert\" onclick=\"convertToInteractive('df-7fff8690-4609-43be-970c-732bc482605c')\"\n",
              "            title=\"Convert this dataframe to an interactive table.\"\n",
              "            style=\"display:none;\">\n",
              "\n",
              "  <svg xmlns=\"http://www.w3.org/2000/svg\" height=\"24px\" viewBox=\"0 -960 960 960\">\n",
              "    <path d=\"M120-120v-720h720v720H120Zm60-500h600v-160H180v160Zm220 220h160v-160H400v160Zm0 220h160v-160H400v160ZM180-400h160v-160H180v160Zm440 0h160v-160H620v160ZM180-180h160v-160H180v160Zm440 0h160v-160H620v160Z\"/>\n",
              "  </svg>\n",
              "    </button>\n",
              "\n",
              "  <style>\n",
              "    .colab-df-container {\n",
              "      display:flex;\n",
              "      gap: 12px;\n",
              "    }\n",
              "\n",
              "    .colab-df-convert {\n",
              "      background-color: #E8F0FE;\n",
              "      border: none;\n",
              "      border-radius: 50%;\n",
              "      cursor: pointer;\n",
              "      display: none;\n",
              "      fill: #1967D2;\n",
              "      height: 32px;\n",
              "      padding: 0 0 0 0;\n",
              "      width: 32px;\n",
              "    }\n",
              "\n",
              "    .colab-df-convert:hover {\n",
              "      background-color: #E2EBFA;\n",
              "      box-shadow: 0px 1px 2px rgba(60, 64, 67, 0.3), 0px 1px 3px 1px rgba(60, 64, 67, 0.15);\n",
              "      fill: #174EA6;\n",
              "    }\n",
              "\n",
              "    .colab-df-buttons div {\n",
              "      margin-bottom: 4px;\n",
              "    }\n",
              "\n",
              "    [theme=dark] .colab-df-convert {\n",
              "      background-color: #3B4455;\n",
              "      fill: #D2E3FC;\n",
              "    }\n",
              "\n",
              "    [theme=dark] .colab-df-convert:hover {\n",
              "      background-color: #434B5C;\n",
              "      box-shadow: 0px 1px 3px 1px rgba(0, 0, 0, 0.15);\n",
              "      filter: drop-shadow(0px 1px 2px rgba(0, 0, 0, 0.3));\n",
              "      fill: #FFFFFF;\n",
              "    }\n",
              "  </style>\n",
              "\n",
              "    <script>\n",
              "      const buttonEl =\n",
              "        document.querySelector('#df-7fff8690-4609-43be-970c-732bc482605c button.colab-df-convert');\n",
              "      buttonEl.style.display =\n",
              "        google.colab.kernel.accessAllowed ? 'block' : 'none';\n",
              "\n",
              "      async function convertToInteractive(key) {\n",
              "        const element = document.querySelector('#df-7fff8690-4609-43be-970c-732bc482605c');\n",
              "        const dataTable =\n",
              "          await google.colab.kernel.invokeFunction('convertToInteractive',\n",
              "                                                    [key], {});\n",
              "        if (!dataTable) return;\n",
              "\n",
              "        const docLinkHtml = 'Like what you see? Visit the ' +\n",
              "          '<a target=\"_blank\" href=https://colab.research.google.com/notebooks/data_table.ipynb>data table notebook</a>'\n",
              "          + ' to learn more about interactive tables.';\n",
              "        element.innerHTML = '';\n",
              "        dataTable['output_type'] = 'display_data';\n",
              "        await google.colab.output.renderOutput(dataTable, element);\n",
              "        const docLink = document.createElement('div');\n",
              "        docLink.innerHTML = docLinkHtml;\n",
              "        element.appendChild(docLink);\n",
              "      }\n",
              "    </script>\n",
              "  </div>\n",
              "\n",
              "\n",
              "    <div id=\"df-f7aff482-3e62-41d9-a00f-530cc82d287d\">\n",
              "      <button class=\"colab-df-quickchart\" onclick=\"quickchart('df-f7aff482-3e62-41d9-a00f-530cc82d287d')\"\n",
              "                title=\"Suggest charts\"\n",
              "                style=\"display:none;\">\n",
              "\n",
              "<svg xmlns=\"http://www.w3.org/2000/svg\" height=\"24px\"viewBox=\"0 0 24 24\"\n",
              "     width=\"24px\">\n",
              "    <g>\n",
              "        <path d=\"M19 3H5c-1.1 0-2 .9-2 2v14c0 1.1.9 2 2 2h14c1.1 0 2-.9 2-2V5c0-1.1-.9-2-2-2zM9 17H7v-7h2v7zm4 0h-2V7h2v10zm4 0h-2v-4h2v4z\"/>\n",
              "    </g>\n",
              "</svg>\n",
              "      </button>\n",
              "\n",
              "<style>\n",
              "  .colab-df-quickchart {\n",
              "      --bg-color: #E8F0FE;\n",
              "      --fill-color: #1967D2;\n",
              "      --hover-bg-color: #E2EBFA;\n",
              "      --hover-fill-color: #174EA6;\n",
              "      --disabled-fill-color: #AAA;\n",
              "      --disabled-bg-color: #DDD;\n",
              "  }\n",
              "\n",
              "  [theme=dark] .colab-df-quickchart {\n",
              "      --bg-color: #3B4455;\n",
              "      --fill-color: #D2E3FC;\n",
              "      --hover-bg-color: #434B5C;\n",
              "      --hover-fill-color: #FFFFFF;\n",
              "      --disabled-bg-color: #3B4455;\n",
              "      --disabled-fill-color: #666;\n",
              "  }\n",
              "\n",
              "  .colab-df-quickchart {\n",
              "    background-color: var(--bg-color);\n",
              "    border: none;\n",
              "    border-radius: 50%;\n",
              "    cursor: pointer;\n",
              "    display: none;\n",
              "    fill: var(--fill-color);\n",
              "    height: 32px;\n",
              "    padding: 0;\n",
              "    width: 32px;\n",
              "  }\n",
              "\n",
              "  .colab-df-quickchart:hover {\n",
              "    background-color: var(--hover-bg-color);\n",
              "    box-shadow: 0 1px 2px rgba(60, 64, 67, 0.3), 0 1px 3px 1px rgba(60, 64, 67, 0.15);\n",
              "    fill: var(--button-hover-fill-color);\n",
              "  }\n",
              "\n",
              "  .colab-df-quickchart-complete:disabled,\n",
              "  .colab-df-quickchart-complete:disabled:hover {\n",
              "    background-color: var(--disabled-bg-color);\n",
              "    fill: var(--disabled-fill-color);\n",
              "    box-shadow: none;\n",
              "  }\n",
              "\n",
              "  .colab-df-spinner {\n",
              "    border: 2px solid var(--fill-color);\n",
              "    border-color: transparent;\n",
              "    border-bottom-color: var(--fill-color);\n",
              "    animation:\n",
              "      spin 1s steps(1) infinite;\n",
              "  }\n",
              "\n",
              "  @keyframes spin {\n",
              "    0% {\n",
              "      border-color: transparent;\n",
              "      border-bottom-color: var(--fill-color);\n",
              "      border-left-color: var(--fill-color);\n",
              "    }\n",
              "    20% {\n",
              "      border-color: transparent;\n",
              "      border-left-color: var(--fill-color);\n",
              "      border-top-color: var(--fill-color);\n",
              "    }\n",
              "    30% {\n",
              "      border-color: transparent;\n",
              "      border-left-color: var(--fill-color);\n",
              "      border-top-color: var(--fill-color);\n",
              "      border-right-color: var(--fill-color);\n",
              "    }\n",
              "    40% {\n",
              "      border-color: transparent;\n",
              "      border-right-color: var(--fill-color);\n",
              "      border-top-color: var(--fill-color);\n",
              "    }\n",
              "    60% {\n",
              "      border-color: transparent;\n",
              "      border-right-color: var(--fill-color);\n",
              "    }\n",
              "    80% {\n",
              "      border-color: transparent;\n",
              "      border-right-color: var(--fill-color);\n",
              "      border-bottom-color: var(--fill-color);\n",
              "    }\n",
              "    90% {\n",
              "      border-color: transparent;\n",
              "      border-bottom-color: var(--fill-color);\n",
              "    }\n",
              "  }\n",
              "</style>\n",
              "\n",
              "      <script>\n",
              "        async function quickchart(key) {\n",
              "          const quickchartButtonEl =\n",
              "            document.querySelector('#' + key + ' button');\n",
              "          quickchartButtonEl.disabled = true;  // To prevent multiple clicks.\n",
              "          quickchartButtonEl.classList.add('colab-df-spinner');\n",
              "          try {\n",
              "            const charts = await google.colab.kernel.invokeFunction(\n",
              "                'suggestCharts', [key], {});\n",
              "          } catch (error) {\n",
              "            console.error('Error during call to suggestCharts:', error);\n",
              "          }\n",
              "          quickchartButtonEl.classList.remove('colab-df-spinner');\n",
              "          quickchartButtonEl.classList.add('colab-df-quickchart-complete');\n",
              "        }\n",
              "        (() => {\n",
              "          let quickchartButtonEl =\n",
              "            document.querySelector('#df-f7aff482-3e62-41d9-a00f-530cc82d287d button');\n",
              "          quickchartButtonEl.style.display =\n",
              "            google.colab.kernel.accessAllowed ? 'block' : 'none';\n",
              "        })();\n",
              "      </script>\n",
              "    </div>\n",
              "\n",
              "    </div>\n",
              "  </div>\n"
            ],
            "application/vnd.google.colaboratory.intrinsic+json": {
              "type": "dataframe",
              "variable_name": "data",
              "summary": "{\n  \"name\": \"data\",\n  \"rows\": 871,\n  \"fields\": [\n    {\n      \"column\": \"Person_ID\",\n      \"properties\": {\n        \"dtype\": \"string\",\n        \"num_unique_values\": 841,\n        \"samples\": [\n          \"O1744870\",\n          \"O1303475\",\n          \"P217371\"\n        ],\n        \"semantic_type\": \"\",\n        \"description\": \"\"\n      }\n    },\n    {\n      \"column\": \"Crash_Date\",\n      \"properties\": {\n        \"dtype\": \"object\",\n        \"num_unique_values\": 814,\n        \"samples\": [\n          \"05/01/2019 08:45:00 AM\",\n          \"05/31/2023 05:28:00 PM\",\n          \"04/17/2019 09:35:00 PM\"\n        ],\n        \"semantic_type\": \"\",\n        \"description\": \"\"\n      }\n    },\n    {\n      \"column\": \"Crash_Location\",\n      \"properties\": {\n        \"dtype\": \"string\",\n        \"num_unique_values\": 804,\n        \"samples\": [\n          \"6300 N CENTRAL AVE\",\n          \"3952 W FULLERTON AVE\",\n          \"1313 W KINZIE ST\"\n        ],\n        \"semantic_type\": \"\",\n        \"description\": \"\"\n      }\n    },\n    {\n      \"column\": \"Victim\",\n      \"properties\": {\n        \"dtype\": \"category\",\n        \"num_unique_values\": 6,\n        \"samples\": [\n          \"PEDESTRIAN\",\n          \"DRIVER\",\n          \"SCOOTER\"\n        ],\n        \"semantic_type\": \"\",\n        \"description\": \"\"\n      }\n    },\n    {\n      \"column\": \"Crash_Circumstances\",\n      \"properties\": {\n        \"dtype\": \"category\",\n        \"num_unique_values\": 90,\n        \"samples\": [\n          \"UNIT 1 WAS CHASING UNIT 2. UNIT 2 CRASHED INTO A POLE. UNIT 2 DRIVER DIED\",\n          \"LEFT TURNING DRIVER STRUCK PEDESTRIANS IN ROADWAY.\",\n          \"DRIVER STRUCK PEDESTRIAN CROSSING STREET MIDBLOCK.\"\n        ],\n        \"semantic_type\": \"\",\n        \"description\": \"\"\n      }\n    },\n    {\n      \"column\": \"Longitude\",\n      \"properties\": {\n        \"dtype\": \"number\",\n        \"std\": 0.0647327767591428,\n        \"min\": -87.93398,\n        \"max\": -87.52761765,\n        \"num_unique_values\": 806,\n        \"samples\": [\n          -87.7177987,\n          -87.74586235,\n          -87.71429136\n        ],\n        \"semantic_type\": \"\",\n        \"description\": \"\"\n      }\n    },\n    {\n      \"column\": \"Latitude\",\n      \"properties\": {\n        \"dtype\": \"number\",\n        \"std\": 0.08728857257792381,\n        \"min\": 41.647709,\n        \"max\": 42.0193274,\n        \"num_unique_values\": 808,\n        \"samples\": [\n          41.74615422,\n          41.89231009,\n          41.80809777\n        ],\n        \"semantic_type\": \"\",\n        \"description\": \"\"\n      }\n    },\n    {\n      \"column\": \"Location\",\n      \"properties\": {\n        \"dtype\": \"string\",\n        \"num_unique_values\": 808,\n        \"samples\": [\n          \"POINT (-87.58692237 41.74615422)\",\n          \"POINT (-87.74586235 41.89231009)\",\n          \"POINT (-87.71429136 41.80809777)\"\n        ],\n        \"semantic_type\": \"\",\n        \"description\": \"\"\n      }\n    }\n  ]\n}"
            }
          },
          "metadata": {},
          "execution_count": 88
        }
      ]
    },
    {
      "cell_type": "code",
      "source": [
        "#a method to display the variables names only from the coursework dataset\n",
        "list(data.columns)"
      ],
      "metadata": {
        "colab": {
          "base_uri": "https://localhost:8080/"
        },
        "id": "YOSMlp4d8c0N",
        "outputId": "b2201359-9ded-45fc-b049-452c95ee7a2b"
      },
      "execution_count": 89,
      "outputs": [
        {
          "output_type": "execute_result",
          "data": {
            "text/plain": [
              "['Person_ID',\n",
              " 'Crash_Date',\n",
              " 'Crash_Location',\n",
              " 'Victim',\n",
              " 'Crash_Circumstances',\n",
              " 'Longitude',\n",
              " 'Latitude',\n",
              " 'Location']"
            ]
          },
          "metadata": {},
          "execution_count": 89
        }
      ]
    },
    {
      "cell_type": "code",
      "source": [
        "#a method to explore the data types for all the variables in the coursework dataset\n",
        "data.info()"
      ],
      "metadata": {
        "colab": {
          "base_uri": "https://localhost:8080/"
        },
        "id": "ZlJvIs4X8hkj",
        "outputId": "68640d4b-a24e-4f15-f220-82b1df143de2"
      },
      "execution_count": 90,
      "outputs": [
        {
          "output_type": "stream",
          "name": "stdout",
          "text": [
            "<class 'pandas.core.frame.DataFrame'>\n",
            "RangeIndex: 871 entries, 0 to 870\n",
            "Data columns (total 8 columns):\n",
            " #   Column               Non-Null Count  Dtype  \n",
            "---  ------               --------------  -----  \n",
            " 0   Person_ID            846 non-null    object \n",
            " 1   Crash_Date           871 non-null    object \n",
            " 2   Crash_Location       871 non-null    object \n",
            " 3   Victim               871 non-null    object \n",
            " 4   Crash_Circumstances  116 non-null    object \n",
            " 5   Longitude            871 non-null    float64\n",
            " 6   Latitude             871 non-null    float64\n",
            " 7   Location             871 non-null    object \n",
            "dtypes: float64(2), object(6)\n",
            "memory usage: 54.6+ KB\n"
          ]
        }
      ]
    },
    {
      "cell_type": "code",
      "source": [
        "#a method to only calculate (count) and display the dimensions of the coursework dataset (number of instances and features)\n",
        "data.shape"
      ],
      "metadata": {
        "colab": {
          "base_uri": "https://localhost:8080/"
        },
        "id": "zqKlC0LG8kid",
        "outputId": "b8e70f01-4682-41d7-c8e4-983ab92ad05e"
      },
      "execution_count": 91,
      "outputs": [
        {
          "output_type": "execute_result",
          "data": {
            "text/plain": [
              "(871, 8)"
            ]
          },
          "metadata": {},
          "execution_count": 91
        }
      ]
    },
    {
      "cell_type": "code",
      "source": [
        "#investigate the missing observations in the coursework dataset, use a method that shows the count of crashes that have missing values per variable\n",
        "data.isnull().sum()"
      ],
      "metadata": {
        "colab": {
          "base_uri": "https://localhost:8080/",
          "height": 331
        },
        "id": "f-u7bD6D8mEG",
        "outputId": "954ed71a-62da-484c-bd8f-05f04673e5df"
      },
      "execution_count": 92,
      "outputs": [
        {
          "output_type": "execute_result",
          "data": {
            "text/plain": [
              "Person_ID               25\n",
              "Crash_Date               0\n",
              "Crash_Location           0\n",
              "Victim                   0\n",
              "Crash_Circumstances    755\n",
              "Longitude                0\n",
              "Latitude                 0\n",
              "Location                 0\n",
              "dtype: int64"
            ],
            "text/html": [
              "<div>\n",
              "<style scoped>\n",
              "    .dataframe tbody tr th:only-of-type {\n",
              "        vertical-align: middle;\n",
              "    }\n",
              "\n",
              "    .dataframe tbody tr th {\n",
              "        vertical-align: top;\n",
              "    }\n",
              "\n",
              "    .dataframe thead th {\n",
              "        text-align: right;\n",
              "    }\n",
              "</style>\n",
              "<table border=\"1\" class=\"dataframe\">\n",
              "  <thead>\n",
              "    <tr style=\"text-align: right;\">\n",
              "      <th></th>\n",
              "      <th>0</th>\n",
              "    </tr>\n",
              "  </thead>\n",
              "  <tbody>\n",
              "    <tr>\n",
              "      <th>Person_ID</th>\n",
              "      <td>25</td>\n",
              "    </tr>\n",
              "    <tr>\n",
              "      <th>Crash_Date</th>\n",
              "      <td>0</td>\n",
              "    </tr>\n",
              "    <tr>\n",
              "      <th>Crash_Location</th>\n",
              "      <td>0</td>\n",
              "    </tr>\n",
              "    <tr>\n",
              "      <th>Victim</th>\n",
              "      <td>0</td>\n",
              "    </tr>\n",
              "    <tr>\n",
              "      <th>Crash_Circumstances</th>\n",
              "      <td>755</td>\n",
              "    </tr>\n",
              "    <tr>\n",
              "      <th>Longitude</th>\n",
              "      <td>0</td>\n",
              "    </tr>\n",
              "    <tr>\n",
              "      <th>Latitude</th>\n",
              "      <td>0</td>\n",
              "    </tr>\n",
              "    <tr>\n",
              "      <th>Location</th>\n",
              "      <td>0</td>\n",
              "    </tr>\n",
              "  </tbody>\n",
              "</table>\n",
              "</div><br><label><b>dtype:</b> int64</label>"
            ]
          },
          "metadata": {},
          "execution_count": 92
        }
      ]
    },
    {
      "cell_type": "code",
      "source": [
        "#a method to remove the unnecessary variables to exclude from the analysis\n",
        "data = data.drop(columns=(['Crash_Circumstances', 'Location']))"
      ],
      "metadata": {
        "id": "7rFKJecA8xm5"
      },
      "execution_count": 93,
      "outputs": []
    },
    {
      "cell_type": "code",
      "source": [
        "#to mitigate missing data, I decided to perform a complete case analysis, using a python method to perform case-wise deletion\n",
        "data = data.dropna()"
      ],
      "metadata": {
        "id": "RomSdaNd84ae"
      },
      "execution_count": 94,
      "outputs": []
    },
    {
      "cell_type": "code",
      "source": [
        "#a method to display the variables names only from the coursework dataset after removing the unnecessary columns\n",
        "list(data.columns)"
      ],
      "metadata": {
        "colab": {
          "base_uri": "https://localhost:8080/"
        },
        "id": "YwiMg2PE94jZ",
        "outputId": "a62a0987-9c31-45de-c0cb-802ae68ee829"
      },
      "execution_count": 95,
      "outputs": [
        {
          "output_type": "execute_result",
          "data": {
            "text/plain": [
              "['Person_ID',\n",
              " 'Crash_Date',\n",
              " 'Crash_Location',\n",
              " 'Victim',\n",
              " 'Longitude',\n",
              " 'Latitude']"
            ]
          },
          "metadata": {},
          "execution_count": 95
        }
      ]
    },
    {
      "cell_type": "code",
      "source": [
        "#investigating the missing observations in the coursework dataset after performing case-wise deletion\n",
        "data.isnull().sum()"
      ],
      "metadata": {
        "colab": {
          "base_uri": "https://localhost:8080/",
          "height": 269
        },
        "id": "oOOhERzO92Pw",
        "outputId": "1f4ae2d8-cd44-4595-d915-fc32bde30230"
      },
      "execution_count": 96,
      "outputs": [
        {
          "output_type": "execute_result",
          "data": {
            "text/plain": [
              "Person_ID         0\n",
              "Crash_Date        0\n",
              "Crash_Location    0\n",
              "Victim            0\n",
              "Longitude         0\n",
              "Latitude          0\n",
              "dtype: int64"
            ],
            "text/html": [
              "<div>\n",
              "<style scoped>\n",
              "    .dataframe tbody tr th:only-of-type {\n",
              "        vertical-align: middle;\n",
              "    }\n",
              "\n",
              "    .dataframe tbody tr th {\n",
              "        vertical-align: top;\n",
              "    }\n",
              "\n",
              "    .dataframe thead th {\n",
              "        text-align: right;\n",
              "    }\n",
              "</style>\n",
              "<table border=\"1\" class=\"dataframe\">\n",
              "  <thead>\n",
              "    <tr style=\"text-align: right;\">\n",
              "      <th></th>\n",
              "      <th>0</th>\n",
              "    </tr>\n",
              "  </thead>\n",
              "  <tbody>\n",
              "    <tr>\n",
              "      <th>Person_ID</th>\n",
              "      <td>0</td>\n",
              "    </tr>\n",
              "    <tr>\n",
              "      <th>Crash_Date</th>\n",
              "      <td>0</td>\n",
              "    </tr>\n",
              "    <tr>\n",
              "      <th>Crash_Location</th>\n",
              "      <td>0</td>\n",
              "    </tr>\n",
              "    <tr>\n",
              "      <th>Victim</th>\n",
              "      <td>0</td>\n",
              "    </tr>\n",
              "    <tr>\n",
              "      <th>Longitude</th>\n",
              "      <td>0</td>\n",
              "    </tr>\n",
              "    <tr>\n",
              "      <th>Latitude</th>\n",
              "      <td>0</td>\n",
              "    </tr>\n",
              "  </tbody>\n",
              "</table>\n",
              "</div><br><label><b>dtype:</b> int64</label>"
            ]
          },
          "metadata": {},
          "execution_count": 96
        }
      ]
    },
    {
      "cell_type": "code",
      "source": [
        "#to save the prepared (cleaned) dataset, using method to save the new data in a csv format file\n",
        "data.to_csv('final cleaned traffic crashes in chicago.csv', index=False)"
      ],
      "metadata": {
        "id": "FyUjA8ya9FQ7"
      },
      "execution_count": 97,
      "outputs": []
    },
    {
      "cell_type": "code",
      "source": [
        "#a suitable function to load the coursework dataset file\n",
        "dataset = pd.read_csv('/content/final cleaned traffic crashes in chicago.csv')"
      ],
      "metadata": {
        "id": "MY22CO3E_lc1"
      },
      "execution_count": 98,
      "outputs": []
    },
    {
      "cell_type": "code",
      "source": [
        "#a method to only calculate (count) and display the dimensions of the coursework dataset (number of instances and features) after cleaning the original dataset\n",
        "dataset.shape"
      ],
      "metadata": {
        "colab": {
          "base_uri": "https://localhost:8080/"
        },
        "id": "MN4F3DH6_kD7",
        "outputId": "d1597e31-deb4-4176-8ed7-a5e1ecac9992"
      },
      "execution_count": 99,
      "outputs": [
        {
          "output_type": "execute_result",
          "data": {
            "text/plain": [
              "(846, 6)"
            ]
          },
          "metadata": {},
          "execution_count": 99
        }
      ]
    }
  ]
}